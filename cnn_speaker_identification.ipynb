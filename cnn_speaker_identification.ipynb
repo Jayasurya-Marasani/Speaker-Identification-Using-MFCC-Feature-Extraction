{
  "cells": [
    {
      "cell_type": "markdown",
      "metadata": {},
      "source": [
        "Importing the Google Drive"
      ]
    },
    {
      "cell_type": "code",
      "execution_count": null,
      "metadata": {
        "colab": {
          "base_uri": "https://localhost:8080/"
        },
        "id": "i5C6vAHVfpKW",
        "outputId": "2b26efad-8eaf-4f7c-f322-b560974b400b"
      },
      "outputs": [
        {
          "name": "stdout",
          "output_type": "stream",
          "text": [
            "Mounted at /content/drive\n"
          ]
        }
      ],
      "source": [
        "# Mount Google Drive\n",
        "from google.colab import drive\n",
        "drive.mount('/content/drive')"
      ]
    },
    {
      "cell_type": "markdown",
      "metadata": {},
      "source": [
        "Installing Librosa, soundfile and Keras"
      ]
    },
    {
      "cell_type": "code",
      "execution_count": null,
      "metadata": {
        "colab": {
          "base_uri": "https://localhost:8080/"
        },
        "id": "KN7Ezk9naCft",
        "outputId": "0ee86114-f821-4ab7-80d8-b9fa784aacec"
      },
      "outputs": [
        {
          "name": "stdout",
          "output_type": "stream",
          "text": [
            "Looking in indexes: https://pypi.org/simple, https://us-python.pkg.dev/colab-wheels/public/simple/\n",
            "Requirement already satisfied: soundfile in /usr/local/lib/python3.10/dist-packages (0.12.1)\n",
            "Requirement already satisfied: librosa in /usr/local/lib/python3.10/dist-packages (0.10.0.post2)\n",
            "Requirement already satisfied: keras in /usr/local/lib/python3.10/dist-packages (2.12.0)\n",
            "Requirement already satisfied: cffi>=1.0 in /usr/local/lib/python3.10/dist-packages (from soundfile) (1.15.1)\n",
            "Requirement already satisfied: audioread>=2.1.9 in /usr/local/lib/python3.10/dist-packages (from librosa) (3.0.0)\n",
            "Requirement already satisfied: numpy!=1.22.0,!=1.22.1,!=1.22.2,>=1.20.3 in /usr/local/lib/python3.10/dist-packages (from librosa) (1.22.4)\n",
            "Requirement already satisfied: scipy>=1.2.0 in /usr/local/lib/python3.10/dist-packages (from librosa) (1.10.1)\n",
            "Requirement already satisfied: scikit-learn>=0.20.0 in /usr/local/lib/python3.10/dist-packages (from librosa) (1.2.2)\n",
            "Requirement already satisfied: joblib>=0.14 in /usr/local/lib/python3.10/dist-packages (from librosa) (1.2.0)\n",
            "Requirement already satisfied: decorator>=4.3.0 in /usr/local/lib/python3.10/dist-packages (from librosa) (4.4.2)\n",
            "Requirement already satisfied: numba>=0.51.0 in /usr/local/lib/python3.10/dist-packages (from librosa) (0.56.4)\n",
            "Requirement already satisfied: pooch<1.7,>=1.0 in /usr/local/lib/python3.10/dist-packages (from librosa) (1.6.0)\n",
            "Requirement already satisfied: soxr>=0.3.2 in /usr/local/lib/python3.10/dist-packages (from librosa) (0.3.5)\n",
            "Requirement already satisfied: typing-extensions>=4.1.1 in /usr/local/lib/python3.10/dist-packages (from librosa) (4.5.0)\n",
            "Requirement already satisfied: lazy-loader>=0.1 in /usr/local/lib/python3.10/dist-packages (from librosa) (0.2)\n",
            "Requirement already satisfied: msgpack>=1.0 in /usr/local/lib/python3.10/dist-packages (from librosa) (1.0.5)\n",
            "Requirement already satisfied: pycparser in /usr/local/lib/python3.10/dist-packages (from cffi>=1.0->soundfile) (2.21)\n",
            "Requirement already satisfied: llvmlite<0.40,>=0.39.0dev0 in /usr/local/lib/python3.10/dist-packages (from numba>=0.51.0->librosa) (0.39.1)\n",
            "Requirement already satisfied: setuptools in /usr/local/lib/python3.10/dist-packages (from numba>=0.51.0->librosa) (67.7.2)\n",
            "Requirement already satisfied: appdirs>=1.3.0 in /usr/local/lib/python3.10/dist-packages (from pooch<1.7,>=1.0->librosa) (1.4.4)\n",
            "Requirement already satisfied: packaging>=20.0 in /usr/local/lib/python3.10/dist-packages (from pooch<1.7,>=1.0->librosa) (23.1)\n",
            "Requirement already satisfied: requests>=2.19.0 in /usr/local/lib/python3.10/dist-packages (from pooch<1.7,>=1.0->librosa) (2.27.1)\n",
            "Requirement already satisfied: threadpoolctl>=2.0.0 in /usr/local/lib/python3.10/dist-packages (from scikit-learn>=0.20.0->librosa) (3.1.0)\n",
            "Requirement already satisfied: urllib3<1.27,>=1.21.1 in /usr/local/lib/python3.10/dist-packages (from requests>=2.19.0->pooch<1.7,>=1.0->librosa) (1.26.15)\n",
            "Requirement already satisfied: certifi>=2017.4.17 in /usr/local/lib/python3.10/dist-packages (from requests>=2.19.0->pooch<1.7,>=1.0->librosa) (2022.12.7)\n",
            "Requirement already satisfied: charset-normalizer~=2.0.0 in /usr/local/lib/python3.10/dist-packages (from requests>=2.19.0->pooch<1.7,>=1.0->librosa) (2.0.12)\n",
            "Requirement already satisfied: idna<4,>=2.5 in /usr/local/lib/python3.10/dist-packages (from requests>=2.19.0->pooch<1.7,>=1.0->librosa) (3.4)\n"
          ]
        }
      ],
      "source": [
        "!pip install --upgrade soundfile librosa keras"
      ]
    },
    {
      "cell_type": "markdown",
      "metadata": {},
      "source": [
        "Also installing python speech features"
      ]
    },
    {
      "cell_type": "code",
      "execution_count": null,
      "metadata": {
        "colab": {
          "base_uri": "https://localhost:8080/"
        },
        "id": "jQz5Hgf4JDLb",
        "outputId": "ffdbd9a2-d989-4e99-a3ac-a34b59340da2"
      },
      "outputs": [
        {
          "name": "stdout",
          "output_type": "stream",
          "text": [
            "Looking in indexes: https://pypi.org/simple, https://us-python.pkg.dev/colab-wheels/public/simple/\n",
            "Collecting python_speech_features\n",
            "  Downloading python_speech_features-0.6.tar.gz (5.6 kB)\n",
            "  Preparing metadata (setup.py) ... \u001b[?25l\u001b[?25hdone\n",
            "Building wheels for collected packages: python_speech_features\n",
            "  Building wheel for python_speech_features (setup.py) ... \u001b[?25l\u001b[?25hdone\n",
            "  Created wheel for python_speech_features: filename=python_speech_features-0.6-py3-none-any.whl size=5870 sha256=ab3ac5d3d1b0a7fa8b63121667f315e8106113072d114d83953b274d23ab3e2a\n",
            "  Stored in directory: /root/.cache/pip/wheels/5a/9e/68/30bad9462b3926c29e315df16b562216d12bdc215f4d240294\n",
            "Successfully built python_speech_features\n",
            "Installing collected packages: python_speech_features\n",
            "Successfully installed python_speech_features-0.6\n"
          ]
        }
      ],
      "source": [
        "!pip install python_speech_features"
      ]
    },
    {
      "cell_type": "markdown",
      "metadata": {},
      "source": [
        "Extracting the MFCC Features from the audo files"
      ]
    },
    {
      "cell_type": "code",
      "execution_count": null,
      "metadata": {
        "id": "JEydc1LEH9SS"
      },
      "outputs": [],
      "source": [
        "import os\n",
        "import numpy as np\n",
        "from sklearn.model_selection import train_test_split\n",
        "import soundfile as sf\n",
        "import librosa\n",
        "from keras.models import Sequential\n",
        "from keras.layers import Conv2D, MaxPooling2D, Flatten, Dense\n",
        "\n",
        "\n",
        "# Set the path to the folder containing the audio files\n",
        "data_folder = 'Path of the folder containing the audio files'\n",
        "\n",
        "# Set the desired number of MFCC coefficients and maximum sequence length\n",
        "num_coefficients = 13\n",
        "max_sequence_length = 1000\n",
        "\n",
        "# Create empty lists to store the MFCC features and speaker labels\n",
        "mfcc_features = []\n",
        "speaker_labels = []\n",
        "\n",
        "# Iterate through the audio files in the folder\n",
        "for filename in os.listdir(data_folder):\n",
        "    # the format of the file is: speakerID-index.flac\n",
        "    # Extract the speaker ID from the filename\n",
        "    speaker_id = filename.split('-')[0]\n",
        "\n",
        "    # Load the audio file\n",
        "    audio, sr = sf.read(os.path.join(data_folder, filename))\n",
        "\n",
        "    # Extract MFCC features\n",
        "    mfcc = librosa.feature.mfcc(y=audio, sr=sr, n_mfcc=num_coefficients)\n",
        "\n",
        "    # Pad or truncate the MFCC features to the maximum sequence length\n",
        "    if mfcc.shape[1] < max_sequence_length:\n",
        "        pad_width = max_sequence_length - mfcc.shape[1]\n",
        "        mfcc = np.pad(mfcc, pad_width=((0, 0), (0, pad_width)))\n",
        "    else:\n",
        "        mfcc = mfcc[:, :max_sequence_length]\n",
        "\n",
        "    # Append the MFCC features and speaker label to the lists\n",
        "    mfcc_features.append(mfcc)\n",
        "    speaker_labels.append(speaker_id)"
      ]
    },
    {
      "cell_type": "markdown",
      "metadata": {},
      "source": [
        "Splitting the extracted MFCC features into train and test labels"
      ]
    },
    {
      "cell_type": "code",
      "execution_count": null,
      "metadata": {
        "id": "FWyYKlF7U-a9"
      },
      "outputs": [],
      "source": [
        "#Convert the lists to numpy arrays\n",
        "mfcc_features = np.array(mfcc_features)\n",
        "speaker_labels = np.array(speaker_labels)\n",
        "\n",
        "# Split the data into training and testing sets\n",
        "trainMFCC, testMFCC, trainSpeakerIDs, testSpeakerIDs = train_test_split(\n",
        "    mfcc_features, speaker_labels, test_size=0.2, random_state=42)\n",
        "\n",
        "# Reshape the input data\n",
        "trainMFCC = trainMFCC[..., np.newaxis]\n",
        "testMFCC = testMFCC[..., np.newaxis]\n",
        "\n",
        "# Convert speaker IDs to numerical labels\n",
        "unique_speakers = np.unique(speaker_labels)\n",
        "num_speakers = len(unique_speakers)\n",
        "label_to_id = {label: i for i, label in enumerate(unique_speakers)}\n",
        "trainLabels = np.array([label_to_id[label] for label in trainSpeakerIDs])\n",
        "testLabels = np.array([label_to_id[label] for label in testSpeakerIDs])"
      ]
    },
    {
      "cell_type": "markdown",
      "metadata": {},
      "source": [
        "Applying CNN Model "
      ]
    },
    {
      "cell_type": "code",
      "execution_count": null,
      "metadata": {
        "colab": {
          "base_uri": "https://localhost:8080/"
        },
        "id": "MJIfVljU9Ux2",
        "outputId": "64488b8c-8a45-482a-bdd4-12374b1648dd"
      },
      "outputs": [
        {
          "name": "stdout",
          "output_type": "stream",
          "text": [
            "Epoch 1/10\n",
            "15/15 [==============================] - 16s 110ms/step - loss: 193.9150 - accuracy: 0.2727 - val_loss: 62.6205 - val_accuracy: 0.4425\n",
            "Epoch 2/10\n",
            "15/15 [==============================] - 0s 31ms/step - loss: 30.3124 - accuracy: 0.5255 - val_loss: 17.0842 - val_accuracy: 0.5221\n",
            "Epoch 3/10\n",
            "15/15 [==============================] - 0s 23ms/step - loss: 8.3062 - accuracy: 0.7361 - val_loss: 4.7067 - val_accuracy: 0.7699\n",
            "Epoch 4/10\n",
            "15/15 [==============================] - 0s 25ms/step - loss: 2.4487 - accuracy: 0.7494 - val_loss: 3.8992 - val_accuracy: 0.6903\n",
            "Epoch 5/10\n",
            "15/15 [==============================] - 0s 24ms/step - loss: 0.6581 - accuracy: 0.8581 - val_loss: 1.6503 - val_accuracy: 0.7788\n",
            "Epoch 6/10\n",
            "15/15 [==============================] - 0s 28ms/step - loss: 0.3266 - accuracy: 0.9446 - val_loss: 0.6365 - val_accuracy: 0.9027\n",
            "Epoch 7/10\n",
            "15/15 [==============================] - 0s 21ms/step - loss: 0.1314 - accuracy: 0.9667 - val_loss: 0.2323 - val_accuracy: 0.9292\n",
            "Epoch 8/10\n",
            "15/15 [==============================] - 0s 29ms/step - loss: 0.0244 - accuracy: 0.9911 - val_loss: 0.1954 - val_accuracy: 0.9381\n",
            "Epoch 9/10\n",
            "15/15 [==============================] - 0s 28ms/step - loss: 0.0084 - accuracy: 0.9978 - val_loss: 0.2385 - val_accuracy: 0.9558\n",
            "Epoch 10/10\n",
            "15/15 [==============================] - 0s 30ms/step - loss: 0.0054 - accuracy: 1.0000 - val_loss: 0.2459 - val_accuracy: 0.9558\n",
            "4/4 [==============================] - 0s 10ms/step - loss: 0.2459 - accuracy: 0.9558\n",
            "Test loss: 0.2458685338497162\n",
            "Test accuracy: 0.9557521939277649\n"
          ]
        }
      ],
      "source": [
        "model = Sequential()\n",
        "model.add(Conv2D(32, (3, 3), activation='relu', input_shape=(num_coefficients, max_sequence_length, 1)))\n",
        "model.add(MaxPooling2D((2, 2)))\n",
        "model.add(Flatten())\n",
        "model.add(Dense(64, activation='relu'))\n",
        "model.add(Dense(num_speakers, activation='softmax'))\n",
        "\n",
        "# Compile the model\n",
        "model.compile(optimizer='adam', loss='sparse_categorical_crossentropy', metrics=['accuracy'])\n",
        "\n",
        "# Train the model\n",
        "model.fit(trainMFCC, trainLabels, epochs=10, batch_size=32, validation_data=(testMFCC, testLabels))\n",
        "\n",
        "# Evaluate the model on the test set\n",
        "loss, accuracy = model.evaluate(testMFCC, testLabels)\n",
        "print('Test loss:', loss)\n",
        "print('Test accuracy:', accuracy)"
      ]
    },
    {
      "cell_type": "markdown",
      "metadata": {},
      "source": [
        "Classifcation Report and Confusion Matrix"
      ]
    },
    {
      "cell_type": "code",
      "execution_count": null,
      "metadata": {
        "colab": {
          "base_uri": "https://localhost:8080/",
          "height": 1000
        },
        "id": "gECOgsbSoIOR",
        "outputId": "cbc81daf-5de6-468b-b7bc-035dd3d09585"
      },
      "outputs": [
        {
          "name": "stdout",
          "output_type": "stream",
          "text": [
            "4/4 [==============================] - 0s 3ms/step\n",
            "19: 0.9824561403508771\n",
            "26: 0.9500000000000001\n",
            "27: 1.0\n",
            "32: 0.8717948717948718\n",
            "39: 0.9444444444444444\n"
          ]
        },
        {
          "data": {
            "image/png": "[encoded data removed]",
            "text/plain": [
              "<Figure size 800x800 with 2 Axes>"
            ]
          },
          "metadata": {},
          "output_type": "display_data"
        },
        {
          "name": "stdout",
          "output_type": "stream",
          "text": [
            "\n",
            "Classification Report:\n",
            "              precision    recall  f1-score   support\n",
            "\n",
            "          19       1.00      0.97      0.98        29\n",
            "          26       1.00      0.90      0.95        21\n",
            "          27       1.00      1.00      1.00        27\n",
            "          32       0.77      1.00      0.87        17\n",
            "          39       1.00      0.89      0.94        19\n",
            "\n",
            "    accuracy                           0.96       113\n",
            "   macro avg       0.95      0.95      0.95       113\n",
            "weighted avg       0.97      0.96      0.96       113\n",
            "\n"
          ]
        }
      ],
      "source": [
        "import numpy as np\n",
        "import matplotlib.pyplot as plt\n",
        "import seaborn as sns\n",
        "from sklearn.metrics import confusion_matrix, classification_report\n",
        "\n",
        "# Make predictions on the test set\n",
        "predictions = np.argmax(model.predict(testMFCC), axis=1)\n",
        "\n",
        "# Calculate the confusion matrix\n",
        "cm = confusion_matrix(testLabels, predictions)\n",
        "\n",
        "# Calculate the classification report\n",
        "class_names = np.unique(speaker_labels)\n",
        "report = classification_report(testLabels, predictions, target_names=class_names, output_dict=True)\n",
        "\n",
        "# Get the F1-score for each class\n",
        "f1_scores = {label: report[label]['f1-score'] for label in class_names}\n",
        "\n",
        "# Print the F1-score for each class\n",
        "for label, f1_score in f1_scores.items():\n",
        "    print(f\"{label}: {f1_score}\")\n",
        "\n",
        "# Plot the confusion matrix\n",
        "plt.figure(figsize=(8, 8))\n",
        "sns.heatmap(cm, annot=True, fmt=\"d\", cmap=\"Blues\", xticklabels=class_names, yticklabels=class_names)\n",
        "plt.xlabel('Predicted Label')\n",
        "plt.ylabel('True Label')\n",
        "plt.title('Confusion Matrix')\n",
        "plt.show()\n",
        "\n",
        "# Print the classification report\n",
        "print(\"\\nClassification Report:\")\n",
        "print(classification_report(testLabels, predictions, target_names=class_names))\n"
      ]
    }
  ],
  "metadata": {
    "accelerator": "GPU",
    "colab": {
      "gpuType": "T4",
      "provenance": []
    },
    "gpuClass": "standard",
    "kernelspec": {
      "display_name": "Python 3",
      "name": "python3"
    },
    "language_info": {
      "name": "python"
    }
  },
  "nbformat": 4,
  "nbformat_minor": 0
}
