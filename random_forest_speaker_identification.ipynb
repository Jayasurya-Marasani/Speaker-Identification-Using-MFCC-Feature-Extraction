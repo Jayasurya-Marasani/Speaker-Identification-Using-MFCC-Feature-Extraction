{
  "cells": [
    {
      "cell_type": "markdown",
      "metadata": {},
      "source": [
        "Importing the Google Drive"
      ]
    },
    {
      "cell_type": "code",
      "execution_count": null,
      "metadata": {
        "colab": {
          "base_uri": "https://localhost:8080/"
        },
        "id": "jCs8-sxZewu1",
        "outputId": "5613513f-07a7-4879-f7e4-b52325a6452f"
      },
      "outputs": [
        {
          "name": "stdout",
          "output_type": "stream",
          "text": [
            "Mounted at /content/drive\n"
          ]
        }
      ],
      "source": [
        "from google.colab import drive\n",
        "drive.mount('/content/drive')"
      ]
    },
    {
      "cell_type": "markdown",
      "metadata": {},
      "source": [
        "Extracting the MFCC Features from the Audio Files"
      ]
    },
    {
      "cell_type": "code",
      "execution_count": null,
      "metadata": {
        "id": "DNWtTuuMmKjk"
      },
      "outputs": [],
      "source": [
        "import os\n",
        "import numpy as np\n",
        "from sklearn.model_selection import train_test_split\n",
        "import soundfile as sf\n",
        "import librosa\n",
        "from keras.models import Sequential\n",
        "from keras.layers import Conv2D, MaxPooling2D, Flatten, Dense\n",
        "\n",
        "# Set the path to the folder containing the audio files\n",
        "data_folder = 'Add the path of the dataset here where the audio files are stored'\n",
        "\n",
        "# Set the desired number of MFCC coefficients and maximum sequence length\n",
        "num_coefficients = 13\n",
        "max_sequence_length = 1000\n",
        "\n",
        "# Create empty lists to store the MFCC features and speaker labels\n",
        "mfcc_features = []\n",
        "speaker_labels = []\n",
        "\n",
        "# Iterate through the audio files in the folder\n",
        "for filename in os.listdir(data_folder):\n",
        "    # The Files are in .flac format\n",
        "    if filename.endswith('.flac'):\n",
        "        # Extract the speaker ID from the filename\n",
        "        # The filename format is: {speakerID}-{index}.flac\n",
        "        speaker_id = filename.split('-')[0]\n",
        "\n",
        "        # Load the audio file\n",
        "        audio, sr = sf.read(os.path.join(data_folder, filename))\n",
        "\n",
        "        # Extract MFCC features\n",
        "        mfcc = librosa.feature.mfcc(y=audio, sr=sr, n_mfcc=num_coefficients)\n",
        "\n",
        "        # Pad or truncate the MFCC features to the maximum sequence length\n",
        "        if mfcc.shape[1] < max_sequence_length:\n",
        "            pad_width = max_sequence_length - mfcc.shape[1]\n",
        "            mfcc = np.pad(mfcc, pad_width=((0, 0), (0, pad_width)))\n",
        "        else:\n",
        "            mfcc = mfcc[:, :max_sequence_length]\n",
        "\n",
        "        # Append the MFCC features and speaker label to the lists\n",
        "        mfcc_features.append(mfcc)\n",
        "        speaker_labels.append(speaker_id)\n",
        "\n",
        "# Convert the lists to numpy arrays\n",
        "mfcc_features = np.array(mfcc_features)\n",
        "speaker_labels = np.array(speaker_labels)\n",
        "\n",
        "# Split the data into training and testing sets\n",
        "trainMFCC, testMFCC, trainSpeakerIDs, testSpeakerIDs = train_test_split(\n",
        "    mfcc_features, speaker_labels, test_size=0.2, random_state=42)\n",
        "\n",
        "# Reshape the input data\n",
        "trainMFCC = trainMFCC[..., np.newaxis]\n",
        "testMFCC = testMFCC[..., np.newaxis]\n",
        "\n",
        "# Convert speaker IDs to numerical labels\n",
        "unique_speakers = np.unique(speaker_labels)\n",
        "num_speakers = len(unique_speakers)\n",
        "label_to_id = {label: i for i, label in enumerate(unique_speakers)}\n",
        "trainLabels = np.array([label_to_id[label] for label in trainSpeakerIDs])\n",
        "testLabels = np.array([label_to_id[label] for label in testSpeakerIDs])"
      ]
    },
    {
      "cell_type": "markdown",
      "metadata": {
        "id": "I8gtJjul9J44"
      },
      "source": [
        "Applying Scaling, SVD and Random Forest Classifier"
      ]
    },
    {
      "cell_type": "code",
      "execution_count": null,
      "metadata": {
        "colab": {
          "base_uri": "https://localhost:8080/"
        },
        "id": "e27FfsBv9JD1",
        "outputId": "4a8fedda-6fb1-4995-b984-16dc0c20d505"
      },
      "outputs": [
        {
          "name": "stdout",
          "output_type": "stream",
          "text": [
            "Accuracy: 0.9517102615694165\n"
          ]
        }
      ],
      "source": [
        "from sklearn.preprocessing import StandardScaler\n",
        "from sklearn.decomposition import TruncatedSVD\n",
        "from sklearn.ensemble import RandomForestClassifier\n",
        "\n",
        "from sklearn.metrics import accuracy_score\n",
        "scaler = StandardScaler()\n",
        "trainMFCC_flat = trainMFCC.reshape(trainMFCC.shape[0], -1)\n",
        "testMFCC_flat = testMFCC.reshape(testMFCC.shape[0], -1)\n",
        "trainMFCC_flat = scaler.fit_transform(trainMFCC_flat)\n",
        "testMFCC_flat = scaler.transform(testMFCC_flat)\n",
        "\n",
        "# Apply dimensionality reduction using TruncatedSVD\n",
        "svd = TruncatedSVD(n_components=50)  # Adjust the number of components\n",
        "trainMFCC_reduced = svd.fit_transform(trainMFCC_flat)\n",
        "testMFCC_reduced = svd.transform(testMFCC_flat)\n",
        "\n",
        "# Create the Random Forest model\n",
        "model = RandomForestClassifier(n_estimators=100)  # Adjust the number of estimators\n",
        "\n",
        "# Train the model\n",
        "model.fit(trainMFCC_reduced, trainLabels)\n",
        "\n",
        "# Test the model\n",
        "predictions = model.predict(testMFCC_reduced)\n",
        "\n",
        "# Calculate accuracy\n",
        "accuracy = accuracy_score(testLabels, predictions)\n",
        "print(\"Accuracy:\", accuracy)"
      ]
    },
    {
      "cell_type": "markdown",
      "metadata": {
        "id": "Cg_hSZVEzFXA"
      },
      "source": [
        "Classfication Report and Accuarcy Score"
      ]
    },
    {
      "cell_type": "code",
      "execution_count": null,
      "metadata": {
        "colab": {
          "base_uri": "https://localhost:8080/",
          "height": 1000
        },
        "id": "Wv8BTDtyAuvH",
        "outputId": "33654a35-ea3c-4b90-dff1-51f769cff91f"
      },
      "outputs": [
        {
          "name": "stdout",
          "output_type": "stream",
          "text": [
            "Confusion Matrix:\n"
          ]
        },
        {
          "data": {
            "image/png": "[encoded data removed]",
            "text/plain": [
              "<Figure size 800x800 with 2 Axes>"
            ]
          },
          "metadata": {},
          "output_type": "display_data"
        },
        {
          "name": "stdout",
          "output_type": "stream",
          "text": [
            "\n",
            "Classification Report:\n",
            "              precision    recall  f1-score   support\n",
            "\n",
            "         103       1.00      0.95      0.97        19\n",
            "         118       0.92      1.00      0.96        24\n",
            "         125       0.94      1.00      0.97        31\n",
            "         150       0.95      0.95      0.95        20\n",
            "         163       1.00      1.00      1.00        28\n",
            "          19       0.93      1.00      0.96        13\n",
            "         196       1.00      1.00      1.00        23\n",
            "         198       0.83      0.77      0.80        26\n",
            "         200       1.00      0.92      0.96        24\n",
            "         201       0.95      0.83      0.89        24\n",
            "         211       0.95      0.91      0.93        23\n",
            "          26       1.00      1.00      1.00        32\n",
            "          27       0.76      1.00      0.87        26\n",
            "          32       1.00      0.84      0.91        19\n",
            "          39       0.96      1.00      0.98        27\n",
            "          40       1.00      1.00      1.00        22\n",
            "          60       1.00      0.87      0.93        30\n",
            "          78       0.95      0.95      0.95        21\n",
            "          83       0.95      1.00      0.98        20\n",
            "          87       1.00      1.00      1.00        24\n",
            "          89       0.95      1.00      0.98        21\n",
            "\n",
            "    accuracy                           0.95       497\n",
            "   macro avg       0.96      0.95      0.95       497\n",
            "weighted avg       0.96      0.95      0.95       497\n",
            "\n"
          ]
        }
      ],
      "source": [
        "from sklearn.metrics import confusion_matrix, classification_report, accuracy_score\n",
        "import matplotlib.pyplot as plt\n",
        "import seaborn as sns\n",
        "\n",
        "# Calculate confusion matrix\n",
        "cm = confusion_matrix(testLabels, predictions)\n",
        "\n",
        "# Calculate classification report\n",
        "class_names = unique_speakers\n",
        "report = classification_report(testLabels, predictions, target_names=class_names)\n",
        "\n",
        "print(\"Confusion Matrix:\")\n",
        "# Plot the confusion matrix\n",
        "plt.figure(figsize=(8, 8))\n",
        "sns.heatmap(cm, annot=True, fmt=\"d\", cmap=\"Blues\", xticklabels=class_names, yticklabels=class_names)\n",
        "plt.xlabel('Predicted Label')\n",
        "plt.ylabel('True Label')\n",
        "plt.title('Confusion Matrix')\n",
        "plt.show()\n",
        "\n",
        "print(\"\\nClassification Report:\")\n",
        "print(report)"
      ]
    },
    {
      "cell_type": "markdown",
      "metadata": {},
      "source": [
        "Applying Sclaing, SVD and Decision Tree Classifier"
      ]
    },
    {
      "cell_type": "code",
      "execution_count": null,
      "metadata": {
        "colab": {
          "base_uri": "https://localhost:8080/"
        },
        "id": "QjF1jilFbQUW",
        "outputId": "8dc938d7-d8b6-4e52-a412-4e7ab16c7323"
      },
      "outputs": [
        {
          "name": "stdout",
          "output_type": "stream",
          "text": [
            "Accuracy: 0.7847082494969819\n"
          ]
        }
      ],
      "source": [
        "from sklearn.ensemble import RandomForestClassifier\n",
        "scaler = StandardScaler()\n",
        "trainMFCC_flat = trainMFCC.reshape(trainMFCC.shape[0], -1)\n",
        "testMFCC_flat = testMFCC.reshape(testMFCC.shape[0], -1)\n",
        "trainMFCC_flat = scaler.fit_transform(trainMFCC_flat)\n",
        "testMFCC_flat = scaler.transform(testMFCC_flat)\n",
        "\n",
        "# Apply dimensionality reduction using TruncatedSVD\n",
        "\n",
        "# Apply dimensionality reduction using SVD\n",
        "svd = TruncatedSVD(n_components=100, random_state=42)\n",
        "\n",
        "# Fit SVD on the normalized training data and transform it\n",
        "trainMFCC_svd = svd.fit_transform(trainMFCC_flat)\n",
        "\n",
        "# Transform the normalized testing data using the trained SVD\n",
        "testMFCC_svd = svd.transform(testMFCC_flat)\n",
        "\n",
        "\n",
        "model = DecisionTreeClassifier(criterion = 'gini',min_samples_split=2)\n",
        "model.fit(trainMFCC_svd, trainLabels)\n",
        "\n",
        "# Test the model\n",
        "predictions = model.predict(testMFCC_svd)\n",
        "\n",
        "# Calculate accuracy\n",
        "accuracy = accuracy_score(testLabels, predictions)\n",
        "print(\"Accuracy:\", accuracy)"
      ]
    },
    {
      "cell_type": "markdown",
      "metadata": {
        "id": "eDcRNqZl520p"
      },
      "source": [
        "Applying PCA and Decision Tree Classifier"
      ]
    },
    {
      "cell_type": "code",
      "execution_count": null,
      "metadata": {
        "colab": {
          "base_uri": "https://localhost:8080/"
        },
        "id": "EpF-pwdu38X5",
        "outputId": "ba42242d-88b8-47fa-d3dd-7ecf6fc06ad0"
      },
      "outputs": [
        {
          "name": "stdout",
          "output_type": "stream",
          "text": [
            "Accuracy: 0.24346076458752516\n"
          ]
        }
      ],
      "source": [
        "from sklearn.decomposition import PCA\n",
        "pca = PCA(n_components=100)  # Set the desired number of components\n",
        "trainMFCC_flat = trainMFCC.reshape(trainMFCC.shape[0], -1)\n",
        "trainMFCC_reduced = pca.fit_transform(trainMFCC_flat)\n",
        "testMFCC_flat = testMFCC.reshape(testMFCC.shape[0], -1)\n",
        "testMFCC_reduced = pca.transform(testMFCC_flat)\n",
        "\n",
        "# Create the decision tree model\n",
        "model = DecisionTreeClassifier(criterion='log_loss', min_samples_split=3)\n",
        "\n",
        "# Train the model\n",
        "model.fit(trainMFCC_reduced, trainLabels)\n",
        "\n",
        "# Test the model\n",
        "predictions = model.predict(testMFCC_reduced)\n",
        "\n",
        "# Calculate accuracy\n",
        "accuracy = accuracy_score(testLabels, predictions)\n",
        "print(\"Accuracy:\", accuracy)"
      ]
    },
    {
      "cell_type": "markdown",
      "metadata": {
        "id": "OmL8pShk541Z"
      },
      "source": [
        "Decision Tree Classifier With Different Parameters"
      ]
    },
    {
      "cell_type": "code",
      "execution_count": null,
      "metadata": {
        "colab": {
          "base_uri": "https://localhost:8080/"
        },
        "id": "6p_fhBUO5ndA",
        "outputId": "20ccc17d-a289-4e93-a6b2-1fc04bcac66c"
      },
      "outputs": [
        {
          "name": "stdout",
          "output_type": "stream",
          "text": [
            "Accuracy: 0.7967806841046278\n"
          ]
        }
      ],
      "source": [
        "from sklearn.decomposition import TruncatedSVD\n",
        "scaler = StandardScaler()\n",
        "trainMFCC_normalized = scaler.fit_transform(trainMFCC.reshape(trainMFCC.shape[0], -1))\n",
        "testMFCC_normalized = scaler.transform(testMFCC.reshape(testMFCC.shape[0], -1))\n",
        "\n",
        "# Apply dimensionality reduction using SVD\n",
        "svd = TruncatedSVD(n_components=50, random_state=42)\n",
        "\n",
        "# Fit SVD on the normalized training data and transform it\n",
        "trainMFCC_svd = svd.fit_transform(trainMFCC_normalized)\n",
        "\n",
        "# Transform the normalized testing data using the trained SVD\n",
        "testMFCC_svd = svd.transform(testMFCC_normalized)\n",
        "\n",
        "# Create the decision tree model\n",
        "model = DecisionTreeClassifier(criterion='log_loss', min_samples_split=3)\n",
        "\n",
        "# Train the model\n",
        "model.fit(trainMFCC_svd, trainLabels)\n",
        "\n",
        "# Test the model\n",
        "predictions = model.predict(testMFCC_svd)\n",
        "\n",
        "# Calculate accuracy\n",
        "accuracy = accuracy_score(testLabels, predictions)\n",
        "print(\"Accuracy:\", accuracy)"
      ]
    },
    {
      "cell_type": "markdown",
      "metadata": {},
      "source": [
        "Decision Tree Classifier with Hyperparameter Tuning "
      ]
    },
    {
      "cell_type": "code",
      "execution_count": null,
      "metadata": {
        "colab": {
          "base_uri": "https://localhost:8080/"
        },
        "id": "VdrkiXOZ8p8j",
        "outputId": "035a0478-9688-4c85-f355-19eb2a168969"
      },
      "outputs": [
        {
          "name": "stdout",
          "output_type": "stream",
          "text": [
            "2 gini\n",
            "Accuracy: 0.7079646017699115\n",
            "3 gini\n",
            "Accuracy: 0.7345132743362832\n",
            "4 gini\n",
            "Accuracy: 0.7256637168141593\n",
            "2 entropy\n",
            "Accuracy: 0.7876106194690266\n",
            "3 entropy\n",
            "Accuracy: 0.831858407079646\n",
            "4 entropy\n",
            "Accuracy: 0.7964601769911505\n",
            "2 log_loss\n",
            "Accuracy: 0.831858407079646\n",
            "3 log_loss\n",
            "Accuracy: 0.8053097345132744\n",
            "4 log_loss\n",
            "Accuracy: 0.7876106194690266\n",
            "2 gini\n",
            "Accuracy: 0.7433628318584071\n",
            "3 gini\n",
            "Accuracy: 0.7345132743362832\n",
            "4 gini\n",
            "Accuracy: 0.7345132743362832\n",
            "2 entropy\n",
            "Accuracy: 0.8407079646017699\n",
            "3 entropy\n",
            "Accuracy: 0.8141592920353983\n",
            "4 entropy\n",
            "Accuracy: 0.7964601769911505\n",
            "2 log_loss\n",
            "Accuracy: 0.8141592920353983\n",
            "3 log_loss\n",
            "Accuracy: 0.7964601769911505\n",
            "4 log_loss\n",
            "Accuracy: 0.7699115044247787\n"
          ]
        }
      ],
      "source": [
        "c = ['gini', 'entropy','log_loss']\n",
        "d = [\"auto\", \"sqrt\", \"log2\"]\n",
        "\n",
        "for s_c in c:\n",
        "    for i in range(2,5):\n",
        "\n",
        "        # Create the decision tree model\n",
        "        model = DecisionTreeClassifier(criterion = s_c,min_samples_split=i)\n",
        "\n",
        "        # Flatten the training data\n",
        "        trainMFCC_flat = trainMFCC.reshape(trainMFCC.shape[0], -1)\n",
        "\n",
        "        # Train the model\n",
        "        model.fit(trainMFCC_flat, trainLabels)\n",
        "\n",
        "        # Flatten the testing data\n",
        "        testMFCC_flat = testMFCC.reshape(testMFCC.shape[0], -1)\n",
        "\n",
        "        # Test the model\n",
        "        predictions = model.predict(testMFCC_flat)\n",
        "\n",
        "        # Calculate accuracy\n",
        "        accuracy = accuracy_score(testLabels, predictions)\n",
        "        print(i,s_c)\n",
        "        print(\"Accuracy:\", accuracy)"
      ]
    }
  ],
  "metadata": {
    "colab": {
      "provenance": []
    },
    "kernelspec": {
      "display_name": "Python 3",
      "name": "python3"
    },
    "language_info": {
      "name": "python"
    }
  },
  "nbformat": 4,
  "nbformat_minor": 0
}
