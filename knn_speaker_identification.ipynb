{
  "cells": [
    {
      "cell_type": "markdown",
      "metadata": {},
      "source": [
        "Importing Google Drive"
      ]
    },
    {
      "cell_type": "code",
      "execution_count": null,
      "metadata": {
        "colab": {
          "base_uri": "https://localhost:8080/"
        },
        "id": "-isM56DUyDPt",
        "outputId": "06f5305c-b3a8-401a-cdf2-a99664751bf5"
      },
      "outputs": [
        {
          "name": "stdout",
          "output_type": "stream",
          "text": [
            "Mounted at /content/drive\n"
          ]
        }
      ],
      "source": [
        "from google.colab import drive\n",
        "drive.mount('/content/drive')"
      ]
    },
    {
      "cell_type": "markdown",
      "metadata": {},
      "source": [
        "Extracting the MFCC Features from the audio Files"
      ]
    },
    {
      "cell_type": "code",
      "execution_count": null,
      "metadata": {
        "id": "2HPGql-byZ0w"
      },
      "outputs": [],
      "source": [
        "import os\n",
        "import numpy as np\n",
        "from sklearn.model_selection import train_test_split\n",
        "import soundfile as sf\n",
        "import librosa\n",
        "from keras.models import Sequential\n",
        "from keras.layers import Conv2D, MaxPooling2D, Flatten, Dense\n",
        "\n",
        "# Set the path to the folder containing the audio files\n",
        "data_folder = 'path of the dataset audio files'\n",
        "\n",
        "# Set the desired number of MFCC coefficients and maximum sequence length\n",
        "num_coefficients = 13\n",
        "max_sequence_length = 1000\n",
        "\n",
        "# Create empty lists to store the MFCC features and speaker labels\n",
        "mfcc_features = []\n",
        "speaker_labels = []\n",
        "\n",
        "# Iterate through the audio files in the folder\n",
        "for filename in os.listdir(data_folder):\n",
        "    # Filename format: speakerID-index.flac\n",
        "    if filename.endswith('.flac'):\n",
        "        # Extract the speaker ID from the filename\n",
        "        speaker_id = filename.split('-')[0]\n",
        "\n",
        "        # Load the audio file\n",
        "        audio, sr = sf.read(os.path.join(data_folder, filename))\n",
        "\n",
        "        # Extract MFCC features\n",
        "        mfcc = librosa.feature.mfcc(y=audio, sr=sr, n_mfcc=num_coefficients)\n",
        "\n",
        "        # Pad or truncate the MFCC features to the maximum sequence length\n",
        "        if mfcc.shape[1] < max_sequence_length:\n",
        "            pad_width = max_sequence_length - mfcc.shape[1]\n",
        "            mfcc = np.pad(mfcc, pad_width=((0, 0), (0, pad_width)))\n",
        "        else:\n",
        "            mfcc = mfcc[:, :max_sequence_length]\n",
        "\n",
        "        # Append the MFCC features and speaker label to the lists\n",
        "        mfcc_features.append(mfcc)\n",
        "        speaker_labels.append(speaker_id)\n",
        "\n",
        "# Convert the lists to numpy arrays\n",
        "mfcc_features = np.array(mfcc_features)\n",
        "speaker_labels = np.array(speaker_labels)\n",
        "\n",
        "# Split the data into training and testing sets\n",
        "trainMFCC, testMFCC, trainSpeakerIDs, testSpeakerIDs = train_test_split(\n",
        "    mfcc_features, speaker_labels, test_size=0.2, random_state=42)\n",
        "\n",
        "# Reshape the input data\n",
        "trainMFCC = trainMFCC[..., np.newaxis]\n",
        "testMFCC = testMFCC[..., np.newaxis]\n",
        "\n",
        "# Convert speaker IDs to numerical labels\n",
        "unique_speakers = np.unique(speaker_labels)\n",
        "num_speakers = len(unique_speakers)\n",
        "label_to_id = {label: i for i, label in enumerate(unique_speakers)}\n",
        "trainLabels = np.array([label_to_id[label] for label in trainSpeakerIDs])\n",
        "testLabels = np.array([label_to_id[label] for label in testSpeakerIDs])"
      ]
    },
    {
      "cell_type": "markdown",
      "metadata": {},
      "source": [
        "Applying KNN to the extracted MFCC Features"
      ]
    },
    {
      "cell_type": "code",
      "execution_count": null,
      "metadata": {
        "colab": {
          "base_uri": "https://localhost:8080/"
        },
        "id": "bgKwvjt5zbxH",
        "outputId": "0b32ac25-d6d3-42d4-e0b0-5733d3c11b5a"
      },
      "outputs": [
        {
          "name": "stdout",
          "output_type": "stream",
          "text": [
            "Accuracy: 0.22736418511066397\n"
          ]
        }
      ],
      "source": [
        "from sklearn.neighbors import KNeighborsClassifier\n",
        "from sklearn.metrics import accuracy_score\n",
        "\n",
        "# Flatten the MFCC features\n",
        "trainMFCC_flatten = trainMFCC.reshape(trainMFCC.shape[0], -1)\n",
        "testMFCC_flatten = testMFCC.reshape(testMFCC.shape[0], -1)\n",
        "\n",
        "# Create a KNN classifier\n",
        "knn = KNeighborsClassifier(n_neighbors=len(unique_speakers))\n",
        "\n",
        "# Fit the classifier on the training data\n",
        "knn.fit(trainMFCC_flatten, trainLabels)\n",
        "\n",
        "# Predict labels for the test data\n",
        "predLabels = knn.predict(testMFCC_flatten)\n",
        "\n",
        "# Compute accuracy\n",
        "accuracy = accuracy_score(testLabels, predLabels)\n",
        "print(\"Accuracy:\", accuracy)\n"
      ]
    },
    {
      "cell_type": "markdown",
      "metadata": {},
      "source": [
        "Applying Standard Scaling and KNN"
      ]
    },
    {
      "cell_type": "code",
      "execution_count": null,
      "metadata": {
        "colab": {
          "base_uri": "https://localhost:8080/"
        },
        "id": "gb71ehUg0Wp5",
        "outputId": "4ee0712d-0d12-4bbd-879f-5e5d8837989b"
      },
      "outputs": [
        {
          "name": "stdout",
          "output_type": "stream",
          "text": [
            "Accuracy: 0.5372233400402414\n"
          ]
        }
      ],
      "source": [
        "from sklearn.preprocessing import StandardScaler\n",
        "\n",
        "# Normalize the MFCC features\n",
        "scaler = StandardScaler()\n",
        "trainMFCC_normalized = scaler.fit_transform(trainMFCC_flatten)\n",
        "testMFCC_normalized = scaler.transform(testMFCC_flatten)\n",
        "\n",
        "# Create a KNN classifier\n",
        "knn = KNeighborsClassifier(n_neighbors=4)\n",
        "\n",
        "# Fit the classifier on the training data\n",
        "knn.fit(trainMFCC_normalized, trainLabels)\n",
        "\n",
        "# Predict labels for the test data\n",
        "predLabels = knn.predict(testMFCC_normalized)\n",
        "\n",
        "# Compute accuracy\n",
        "accuracy = accuracy_score(testLabels, predLabels)\n",
        "print(\"Accuracy:\", accuracy)\n"
      ]
    },
    {
      "cell_type": "markdown",
      "metadata": {},
      "source": [
        "Applying PCA and then KNN"
      ]
    },
    {
      "cell_type": "code",
      "execution_count": null,
      "metadata": {
        "colab": {
          "base_uri": "https://localhost:8080/"
        },
        "id": "uDFJnhs60tE2",
        "outputId": "5d5bd24f-9c9d-42b6-ac6e-f7d5ef891a16"
      },
      "outputs": [
        {
          "name": "stdout",
          "output_type": "stream",
          "text": [
            "Accuracy: 0.26156941649899396\n"
          ]
        }
      ],
      "source": [
        "from sklearn.decomposition import PCA\n",
        "from sklearn.neighbors import KNeighborsClassifier\n",
        "from sklearn.metrics import accuracy_score\n",
        "\n",
        "# Flatten the MFCC features\n",
        "trainMFCC_flatten = trainMFCC.reshape(trainMFCC.shape[0], -1)\n",
        "testMFCC_flatten = testMFCC.reshape(testMFCC.shape[0], -1)\n",
        "\n",
        "# Apply PCA for dimensionality reduction\n",
        "pca = PCA(n_components=100)  # Choose the desired number of components\n",
        "trainMFCC_pca = pca.fit_transform(trainMFCC_flatten)\n",
        "testMFCC_pca = pca.transform(testMFCC_flatten)\n",
        "\n",
        "# Create a KNN classifier\n",
        "knn = KNeighborsClassifier(n_neighbors=3)\n",
        "\n",
        "# Fit the classifier on the training data\n",
        "knn.fit(trainMFCC_pca, trainLabels)\n",
        "\n",
        "# Predict labels for the test data\n",
        "predLabels = knn.predict(testMFCC_pca)\n",
        "\n",
        "# Compute accuracy\n",
        "accuracy = accuracy_score(testLabels, predLabels)\n",
        "print(\"Accuracy:\", accuracy)\n"
      ]
    },
    {
      "cell_type": "markdown",
      "metadata": {},
      "source": [
        "Applying Scaling, SVD and KNN"
      ]
    },
    {
      "cell_type": "code",
      "execution_count": null,
      "metadata": {
        "colab": {
          "base_uri": "https://localhost:8080/"
        },
        "id": "Gm177knu1qB1",
        "outputId": "0303df1d-70a3-4a11-a625-9abaef1d2200"
      },
      "outputs": [
        {
          "name": "stdout",
          "output_type": "stream",
          "text": [
            "Accuracy: 0.9557344064386318\n"
          ]
        }
      ],
      "source": [
        "from sklearn.decomposition import TruncatedSVD\n",
        "from sklearn.preprocessing import StandardScaler\n",
        "from sklearn.neighbors import KNeighborsClassifier\n",
        "from sklearn.metrics import accuracy_score\n",
        "\n",
        "# Normalize the MFCC features\n",
        "scaler = StandardScaler()\n",
        "trainMFCC_normalized = scaler.fit_transform(trainMFCC_flatten)\n",
        "testMFCC_normalized = scaler.transform(testMFCC_flatten)\n",
        "\n",
        "# Apply SVD for dimensionality reduction\n",
        "svd = TruncatedSVD(n_components=20)  # Choose the desired number of components\n",
        "trainMFCC_svd = svd.fit_transform(trainMFCC_normalized)\n",
        "testMFCC_svd = svd.transform(testMFCC_normalized)\n",
        "\n",
        "# Create a KNN classifier\n",
        "knn = KNeighborsClassifier(n_neighbors=1)\n",
        "\n",
        "# Fit the classifier on the training data\n",
        "knn.fit(trainMFCC_svd, trainLabels)\n",
        "\n",
        "# Predict labels for the test data\n",
        "predLabels = knn.predict(testMFCC_svd)\n",
        "\n",
        "# Compute accuracy\n",
        "accuracy = accuracy_score(testLabels, predLabels)\n",
        "print(\"Accuracy:\", accuracy)\n"
      ]
    },
    {
      "cell_type": "markdown",
      "metadata": {},
      "source": [
        "Classification Report and Confusion Matrix"
      ]
    },
    {
      "cell_type": "code",
      "execution_count": null,
      "metadata": {
        "colab": {
          "base_uri": "https://localhost:8080/",
          "height": 1000
        },
        "id": "u7D5PCv342y2",
        "outputId": "f4f4ff19-a233-4b47-db69-64f35947379a"
      },
      "outputs": [
        {
          "name": "stdout",
          "output_type": "stream",
          "text": [
            "Confusion Matrix:\n"
          ]
        },
        {
          "data": {
            "image/png": "[encoded data removed]",
            "text/plain": [
              "<Figure size 800x800 with 2 Axes>"
            ]
          },
          "metadata": {},
          "output_type": "display_data"
        },
        {
          "name": "stdout",
          "output_type": "stream",
          "text": [
            "\n",
            "Classification Report:\n",
            "              precision    recall  f1-score   support\n",
            "\n",
            "         103       1.00      0.89      0.94        19\n",
            "         118       0.92      0.92      0.92        24\n",
            "         125       1.00      1.00      1.00        31\n",
            "         150       1.00      0.95      0.97        20\n",
            "         163       1.00      1.00      1.00        28\n",
            "          19       0.93      1.00      0.96        13\n",
            "         196       1.00      1.00      1.00        23\n",
            "         198       0.95      0.81      0.88        26\n",
            "         200       1.00      0.96      0.98        24\n",
            "         201       0.91      0.88      0.89        24\n",
            "         211       0.96      1.00      0.98        23\n",
            "          26       1.00      0.94      0.97        32\n",
            "          27       0.76      1.00      0.87        26\n",
            "          32       1.00      0.84      0.91        19\n",
            "          39       0.87      1.00      0.93        27\n",
            "          40       1.00      1.00      1.00        22\n",
            "          60       0.96      0.90      0.93        30\n",
            "          78       0.95      1.00      0.98        21\n",
            "          83       0.95      1.00      0.98        20\n",
            "          87       1.00      1.00      1.00        24\n",
            "          89       1.00      1.00      1.00        21\n",
            "\n",
            "    accuracy                           0.96       497\n",
            "   macro avg       0.96      0.96      0.96       497\n",
            "weighted avg       0.96      0.96      0.96       497\n",
            "\n",
            "Accuracy: 0.9557344064386318\n"
          ]
        }
      ],
      "source": [
        "from sklearn.metrics import confusion_matrix, classification_report\n",
        "import matplotlib.pyplot as plt\n",
        "import seaborn as sns\n",
        "\n",
        "# Calculate confusion matrix\n",
        "cm = confusion_matrix(testLabels, predLabels)\n",
        "\n",
        "# Calculate classification report\n",
        "class_names = unique_speakers\n",
        "report = classification_report(testLabels, predLabels, target_names=class_names)\n",
        "\n",
        "print(\"Confusion Matrix:\")\n",
        "# Plot the confusion matrix\n",
        "plt.figure(figsize=(8, 8))\n",
        "sns.heatmap(cm, annot=True, fmt=\"d\", cmap=\"Blues\", xticklabels=class_names, yticklabels=class_names)\n",
        "plt.xlabel('Predicted Label')\n",
        "plt.ylabel('True Label')\n",
        "plt.title('Confusion Matrix')\n",
        "plt.show()\n",
        "\n",
        "print(\"\\nClassification Report:\")\n",
        "print(report)\n",
        "\n",
        "# Calculate accuracy\n",
        "accuracy = accuracy_score(testLabels, predLabels)\n",
        "print(\"Accuracy:\", accuracy)\n"
      ]
    }
  ],
  "metadata": {
    "colab": {
      "provenance": []
    },
    "kernelspec": {
      "display_name": "Python 3",
      "name": "python3"
    },
    "language_info": {
      "name": "python"
    }
  },
  "nbformat": 4,
  "nbformat_minor": 0
}
